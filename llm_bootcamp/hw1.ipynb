{
 "cells": [
  {
   "cell_type": "markdown",
   "metadata": {},
   "source": [
    "# Assignment 1 - LLM Bootcamp"
   ]
  },
  {
   "cell_type": "markdown",
   "metadata": {},
   "source": [
    "## Question 1\n",
    "In the forward function of `EfficientSlidingWindowMultiheadAttention`, compute the `keys`, `queries`, and `values`. Pad the keys and values to accommodate the sliding window edges."
   ]
  },
  {
   "cell_type": "markdown",
   "metadata": {},
   "source": [
    "<b>Unfolding the keys</b>\n",
    "\n",
    "<p>We need to reshape the keys in a smart manner to be able to utilize tensor operations. We are going to use the function unfold. Let's try to understand how it works!\n",
    "Let's say you have a sequence represented by a 1-dimensional tensor, and you want to apply a sliding window to extract subsequences (windows) of a specified size. \n",
    "For simplicity, let's consider a sequence of numbers from 1 to 10 and a window size</p>"
   ]
  },
  {
   "cell_type": "code",
   "execution_count": 1,
   "metadata": {},
   "outputs": [
    {
     "name": "stdout",
     "output_type": "stream",
     "text": [
      "Original Sequence: tensor([ 1,  2,  3,  4,  5,  6,  7,  8,  9, 10])\n"
     ]
    }
   ],
   "source": [
    "import torch\n",
    "\n",
    "# Sequence tensor\n",
    "sequence = torch.arange(1, 11)  # Tensor: [1, 2, 3, 4, 5, 6, 7, 8, 9, 10]\n",
    "print(\"Original Sequence:\", sequence)"
   ]
  },
  {
   "cell_type": "markdown",
   "metadata": {},
   "source": [
    "The <b>unfold</b> method in PyTorch can be used to create sliding windows. You need to specify:\n",
    "\n",
    "- The dimension along which to unfold (for a 1D tensor, this is dimension 0).\n",
    "- The size of the window you want to extract (in this example, 3).\n",
    "- The step size for each slide (for simplicity, let's use a step size of 1, meaning the window slides one element at a time)."
   ]
  },
  {
   "cell_type": "code",
   "execution_count": 2,
   "metadata": {},
   "outputs": [
    {
     "name": "stdout",
     "output_type": "stream",
     "text": [
      "Sliding Windows:\n",
      " tensor([[ 1,  2,  3],\n",
      "        [ 2,  3,  4],\n",
      "        [ 3,  4,  5],\n",
      "        [ 4,  5,  6],\n",
      "        [ 5,  6,  7],\n",
      "        [ 6,  7,  8],\n",
      "        [ 7,  8,  9],\n",
      "        [ 8,  9, 10]])\n"
     ]
    }
   ],
   "source": [
    "# Window size\n",
    "window_size = 3\n",
    "\n",
    "# Unfolding the sequence to create sliding windows\n",
    "windows = sequence.unfold(0, window_size, 1)\n",
    "\n",
    "print(\"Sliding Windows:\\n\", windows)"
   ]
  },
  {
   "cell_type": "markdown",
   "metadata": {},
   "source": [
    "In the context of sliding window attention, each row of the resulting tensor from the unfold operation can be considered as the keys (and values) for computing attention scores for a query corresponding to the position at the center of the window. This allows the model to focus on a subset of the sequence, reducing computational complexity while capturing the local context around each position.\n",
    "\n",
    "At this point, the size of `keys` is <b>[batch_size, num_heads, seq_length, head_dim]</b>. That means that in each of the <b>num_head</b> heads, we have <b>batch_size</b> samples of <b>seq_length</b> vectors of size <b>head_dim</b>. The size of `keys_padded` should be <b>[batch_size, num_heads, seq_length + 2 * padding, head_dim]</b>. We now want to create a `keys_windows` that has a dimension <b>[batch_size, num_heads, seq_length, head_dim, window_size]</b> by using the `unfold` function on `keys_padded`. Effectively, we going to replace <b>one</b> key vector of size <b>head_dim</b> by <b>widow_size</b> successive key vectors of size <b>head_dim</b>."
   ]
  },
  {
   "cell_type": "code",
   "execution_count": null,
   "metadata": {},
   "outputs": [],
   "source": []
  },
  {
   "cell_type": "code",
   "execution_count": null,
   "metadata": {},
   "outputs": [],
   "source": []
  },
  {
   "cell_type": "code",
   "execution_count": null,
   "metadata": {},
   "outputs": [],
   "source": []
  },
  {
   "cell_type": "code",
   "execution_count": null,
   "metadata": {},
   "outputs": [],
   "source": []
  }
 ],
 "metadata": {
  "kernelspec": {
   "display_name": "aaron_dev",
   "language": "python",
   "name": "python3"
  },
  "language_info": {
   "codemirror_mode": {
    "name": "ipython",
    "version": 3
   },
   "file_extension": ".py",
   "mimetype": "text/x-python",
   "name": "python",
   "nbconvert_exporter": "python",
   "pygments_lexer": "ipython3",
   "version": "3.12.2"
  }
 },
 "nbformat": 4,
 "nbformat_minor": 2
}
